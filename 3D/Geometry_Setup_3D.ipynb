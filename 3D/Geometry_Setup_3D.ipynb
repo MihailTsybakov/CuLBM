{
 "cells": [
  {
   "cell_type": "code",
   "execution_count": 11,
   "metadata": {},
   "outputs": [],
   "source": [
    "import sys \n",
    "\n",
    "path_to_engine = r'C:\\Data\\Work\\Code\\PartEngine'\n",
    "sys.path.insert(0, path_to_engine)\n",
    "\n",
    "from Pre.Sampler.UniformSampler import * # type: ignore\n",
    "from Pre.Sampler.PartExport     import * # type: ignore \n",
    "from Pre.MeshLoader             import * # type: ignore"
   ]
  },
  {
   "cell_type": "code",
   "execution_count": 12,
   "metadata": {},
   "outputs": [],
   "source": [
    "def save_voxels(voxel_mesh, save_path):\n",
    "    \"\"\"\n",
    "    Exports given voxel grid into *.VTK file\n",
    "\n",
    "    parameters:\n",
    "        voxel_mesh (np.array) - 3D (Nx * Ny * Nz) voxel map: 1 for solid, 0 for void\n",
    "        save_path  (str)      - desired export path, format should be *.VTK\n",
    "\n",
    "    returns:\n",
    "\n",
    "    \"\"\"\n",
    "\n",
    "    nx,ny,nz = voxel_mesh.shape \n",
    "    X, Y, Z  = np.meshgrid(np.arange(nx), np.arange(ny), np.arange(nz), indexing = 'ij')\n",
    "\n",
    "    grid     = pv.StructuredGrid(X,Y,Z)\n",
    "    voids    = np.where(voxel_mesh[:-1, :-1, :-1] == 0)\n",
    "    idx      = np.ravel_multi_index(voids, dims = (nx-1, ny-1, nz-1), order = 'F')\n",
    "\n",
    "    grid.hide_cells(idx, inplace = True)\n",
    "\n",
    "    grid.save(save_path)"
   ]
  },
  {
   "cell_type": "code",
   "execution_count": 13,
   "metadata": {},
   "outputs": [],
   "source": [
    "def save_geometry(geom, filename):\n",
    "    \"\"\"\n",
    "    Exports voxelized geometry to *.TXT file in the format:\n",
    "    Nx, Ny, Nz\n",
    "    0 0 0 void_or_solid\n",
    "    0 0 1 void_or_solid\n",
    "    ...\n",
    "\n",
    "    parameters:\n",
    "        geom (np.array) - 3D (Nx * Ny * Nz) voxel map: 1 for solid, 0 for void \n",
    "        filename (str)  - Desired export path, format should be *.TXT\n",
    "\n",
    "    returns:\n",
    "\n",
    "    \"\"\"\n",
    "\n",
    "    nx, ny, nz = geom.shape\n",
    "    with open(filename, 'w') as file:\n",
    "        file.write(f'{nx} {ny} {nz}\\n')\n",
    "        for ix in range(nx):\n",
    "            for iy in range(ny):\n",
    "                for iz in range(nz):\n",
    "                    file.write(f'{ix} {iy} {iz} {int(geom[ix,iy,iz])}\\n')\n",
    "    print(f'Saved to [{filename}]')"
   ]
  },
  {
   "cell_type": "code",
   "execution_count": 14,
   "metadata": {},
   "outputs": [
    {
     "name": "stdout",
     "output_type": "stream",
     "text": [
      "2024-12-31 01:12:36  |  Imported mesh: [TriangleMesh with 11904 points and 3968 triangles.]\n",
      "2024-12-31 01:12:36  |  Mesh size: (2.076555 x 4.337847 x 1.355383)\n"
     ]
    }
   ],
   "source": [
    "path_to_stl = r'C:\\Data\\Work\\Code\\LBM\\LBM_3D_GPU\\Data\\Input\\droplet_1.stl'\n",
    "mesh = import_STL(path_to_stl)"
   ]
  },
  {
   "cell_type": "code",
   "execution_count": 15,
   "metadata": {},
   "outputs": [],
   "source": [
    "visualize_mesh(mesh)"
   ]
  },
  {
   "cell_type": "code",
   "execution_count": 16,
   "metadata": {},
   "outputs": [
    {
     "name": "stdout",
     "output_type": "stream",
     "text": [
      "2024-12-31 01:12:38  |  Uniform sampler: Grid dimension = (30 x 62 x 19)\n",
      "2024-12-31 01:12:38  |  Uniform sampler: 16073 particles placed\n"
     ]
    }
   ],
   "source": [
    "sampled = sample_uniform(mesh, 0.07)"
   ]
  },
  {
   "cell_type": "code",
   "execution_count": 22,
   "metadata": {},
   "outputs": [],
   "source": [
    "# Padding amounts: (before, after) for each axis\n",
    "pad_width = ((15, 50),  \n",
    "             (10, 10),  \n",
    "             (10, 10))  \n",
    "\n",
    "# Pad with zeros\n",
    "sampled_pad = np.pad(sampled.transpose(1, 0, 2), pad_width=pad_width, mode='constant', constant_values=0)\n",
    "\n",
    "import pickle\n",
    "with open('test.pkl', 'wb') as file:\n",
    "    pickle.dump(sampled_pad, file)"
   ]
  },
  {
   "cell_type": "code",
   "execution_count": 18,
   "metadata": {},
   "outputs": [],
   "source": [
    "save_voxels(sampled_pad, 'Data/Input/droplet_1_grid.vtk')"
   ]
  },
  {
   "cell_type": "code",
   "execution_count": 19,
   "metadata": {},
   "outputs": [
    {
     "name": "stdout",
     "output_type": "stream",
     "text": [
      "Saved to [Data/Input/droplet_1_TXT.txt]\n"
     ]
    }
   ],
   "source": [
    "save_geometry(sampled_pad, 'Data/Input/droplet_1_TXT.txt')"
   ]
  },
  {
   "cell_type": "code",
   "execution_count": 21,
   "metadata": {},
   "outputs": [
    {
     "data": {
      "image/png": "[encoded data removed]",
      "text/plain": [
       "<Figure size 640x480 with 1 Axes>"
      ]
     },
     "metadata": {},
     "output_type": "display_data"
    }
   ],
   "source": [
    "from matplotlib import pyplot as plt\n",
    "\n",
    "plt.imshow(sampled_pad[:, :, sampled_pad.shape[2]//2],interpolation= 'None')\n",
    "plt.show()"
   ]
  }
 ],
 "metadata": {
  "kernelspec": {
   "display_name": "Python 3",
   "language": "python",
   "name": "python3"
  },
  "language_info": {
   "codemirror_mode": {
    "name": "ipython",
    "version": 3
   },
   "file_extension": ".py",
   "mimetype": "text/x-python",
   "name": "python",
   "nbconvert_exporter": "python",
   "pygments_lexer": "ipython3",
   "version": "3.10.11"
  }
 },
 "nbformat": 4,
 "nbformat_minor": 2
}
